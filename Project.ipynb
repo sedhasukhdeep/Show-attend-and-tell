{
 "cells": [
  {
   "cell_type": "markdown",
   "metadata": {},
   "source": [
    "## Show, Attend and Tell - Human Evaluation \n",
    "### Group M"
   ]
  },
  {
   "cell_type": "markdown",
   "metadata": {},
   "source": [
    "#### Importing required libraries:"
   ]
  },
  {
   "cell_type": "code",
   "execution_count": 2,
   "metadata": {},
   "outputs": [],
   "source": [
    "import numpy as np\n",
    "import pandas as pd\n",
    "import seaborn as sns\n",
    "import numpy"
   ]
  },
  {
   "cell_type": "markdown",
   "metadata": {},
   "source": [
    "#### Reading CSV file (exporting data from Google form)"
   ]
  },
  {
   "cell_type": "code",
   "execution_count": 3,
   "metadata": {},
   "outputs": [],
   "source": [
    "response = pd.read_csv(\"project_responses.csv\")"
   ]
  },
  {
   "cell_type": "code",
   "execution_count": 4,
   "metadata": {},
   "outputs": [
    {
     "data": {
      "text/html": [
       "<div>\n",
       "<style scoped>\n",
       "    .dataframe tbody tr th:only-of-type {\n",
       "        vertical-align: middle;\n",
       "    }\n",
       "\n",
       "    .dataframe tbody tr th {\n",
       "        vertical-align: top;\n",
       "    }\n",
       "\n",
       "    .dataframe thead th {\n",
       "        text-align: right;\n",
       "    }\n",
       "</style>\n",
       "<table border=\"1\" class=\"dataframe\">\n",
       "  <thead>\n",
       "    <tr style=\"text-align: right;\">\n",
       "      <th></th>\n",
       "      <th>1</th>\n",
       "      <th>2</th>\n",
       "      <th>3</th>\n",
       "      <th>4</th>\n",
       "      <th>5</th>\n",
       "      <th>6</th>\n",
       "      <th>7</th>\n",
       "      <th>8</th>\n",
       "      <th>9</th>\n",
       "      <th>10</th>\n",
       "      <th>...</th>\n",
       "      <th>43</th>\n",
       "      <th>44</th>\n",
       "      <th>45</th>\n",
       "      <th>46</th>\n",
       "      <th>47</th>\n",
       "      <th>48</th>\n",
       "      <th>49</th>\n",
       "      <th>50</th>\n",
       "      <th>51</th>\n",
       "      <th>52</th>\n",
       "    </tr>\n",
       "  </thead>\n",
       "  <tbody>\n",
       "    <tr>\n",
       "      <th>0</th>\n",
       "      <td>A plate with banana and cheese.</td>\n",
       "      <td>Different angles of a man skiing.</td>\n",
       "      <td>A brown cat with green eyes staring.</td>\n",
       "      <td>A red color toothbrush lying with a Chinese br...</td>\n",
       "      <td>A girl is sitting with an umbrella and have re...</td>\n",
       "      <td>An octagon shaped Stop sign with the houses in...</td>\n",
       "      <td>Hockey players in the ground playing the match.</td>\n",
       "      <td>A Siberian Husky dog sitting on the car seat.</td>\n",
       "      <td>A man on a surfboard riding a surfboard.</td>\n",
       "      <td>A yellow bird with green background.</td>\n",
       "      <td>...</td>\n",
       "      <td>Three glasses with red wine surrounded by othe...</td>\n",
       "      <td>A green coloured thing surrounded by trees</td>\n",
       "      <td>A women trying to operate a dryer</td>\n",
       "      <td>A neat and clean washroom with curtains and po...</td>\n",
       "      <td>Three different coloured aggressive cats sitti...</td>\n",
       "      <td>A happy man standing with bananas</td>\n",
       "      <td>A thing covered with brown coloured dust</td>\n",
       "      <td>A painting of a table and two chairs with a fl...</td>\n",
       "      <td>Three chairs with laptop on a table surrounded...</td>\n",
       "      <td>Two lamps and a television on a table with fou...</td>\n",
       "    </tr>\n",
       "    <tr>\n",
       "      <th>1</th>\n",
       "      <td>A plate with banana and cheese.</td>\n",
       "      <td>A man skiing.</td>\n",
       "      <td>A brown cat with green eyes staring.</td>\n",
       "      <td>A toothbrush with paste</td>\n",
       "      <td>A girl wearing a dress is sitting on a chair w...</td>\n",
       "      <td>A stop sign with houses in the background.</td>\n",
       "      <td>Hockey players in the ground playing the match.</td>\n",
       "      <td>A dog with blue eyes sitting.</td>\n",
       "      <td>A man on a surfboard riding a surfboard.</td>\n",
       "      <td>A yellow bird with green background.</td>\n",
       "      <td>...</td>\n",
       "      <td>Three glasses with red wine surrounded by othe...</td>\n",
       "      <td>A green coloured thing surrounded by trees</td>\n",
       "      <td>A women trying to operate a dryer</td>\n",
       "      <td>A washroom with a long cloth</td>\n",
       "      <td>Three different coloured aggressive cats sitti...</td>\n",
       "      <td>A happy man standing with bananas</td>\n",
       "      <td>A thing covered with brown coloured dust</td>\n",
       "      <td>A painting of a table and two chairs with a fl...</td>\n",
       "      <td>Three chairs with laptop on a table surrounded...</td>\n",
       "      <td>Two lamps and a television on a table with fou...</td>\n",
       "    </tr>\n",
       "    <tr>\n",
       "      <th>2</th>\n",
       "      <td>There is a banana and cheese.</td>\n",
       "      <td>Different angles of a man skiing.</td>\n",
       "      <td>A brown cat with green eyes staring.</td>\n",
       "      <td>A red color toothbrush lying with a Chinese br...</td>\n",
       "      <td>A girl is sitting with an umbrella and have re...</td>\n",
       "      <td>An octagon shaped Stop sign with the houses in...</td>\n",
       "      <td>Three men in a line.</td>\n",
       "      <td>A Siberian Husky dog sitting on the car seat.</td>\n",
       "      <td>A man on a surfboard riding a surfboard.</td>\n",
       "      <td>A yellow bird sitting on a tree.</td>\n",
       "      <td>...</td>\n",
       "      <td>Three glasses with red wine surrounded by othe...</td>\n",
       "      <td>A green coloured thing surrounded by trees</td>\n",
       "      <td>A women trying to operate a dryer</td>\n",
       "      <td>A washroom with a long cloth</td>\n",
       "      <td>Three different coloured aggressive cats sitti...</td>\n",
       "      <td>A man holding bananas</td>\n",
       "      <td>A teddy bear covered with mud</td>\n",
       "      <td>A painting of a table and two chairs with a fl...</td>\n",
       "      <td>Three chairs with a table surrounded by trees</td>\n",
       "      <td>Two lamps and a television on a table with fou...</td>\n",
       "    </tr>\n",
       "    <tr>\n",
       "      <th>3</th>\n",
       "      <td>A plate with banana and cheese.</td>\n",
       "      <td>Different angles of a man skiing.</td>\n",
       "      <td>A brown cat with green eyes staring.</td>\n",
       "      <td>A toothbrush with paste</td>\n",
       "      <td>A girl wearing a dress is sitting on a chair w...</td>\n",
       "      <td>A stop sign with houses in the background.</td>\n",
       "      <td>Hockey players in the ground playing the match.</td>\n",
       "      <td>A Siberian Husky dog sitting on the car seat.</td>\n",
       "      <td>A man on a surfboard riding a surfboard.</td>\n",
       "      <td>A yellow bird sitting on a tree.</td>\n",
       "      <td>...</td>\n",
       "      <td>Three glasses with red wine surrounded by othe...</td>\n",
       "      <td>A green coloured thing surrounded by trees</td>\n",
       "      <td>A women trying to operate a dryer</td>\n",
       "      <td>A neat and clean washroom with curtains and po...</td>\n",
       "      <td>Three different coloured cats sitting on a blu...</td>\n",
       "      <td>A happy man standing with bananas</td>\n",
       "      <td>A teddy bear covered with mud</td>\n",
       "      <td>A painting of a table and two chairs with a fl...</td>\n",
       "      <td>Three chairs with laptop on a table surrounded...</td>\n",
       "      <td>Television on a table with two lamps</td>\n",
       "    </tr>\n",
       "    <tr>\n",
       "      <th>4</th>\n",
       "      <td>A plate with banana and cheese.</td>\n",
       "      <td>A man skiing.</td>\n",
       "      <td>A brown cat with green eyes staring.</td>\n",
       "      <td>A red color toothbrush lying with a Chinese br...</td>\n",
       "      <td>A girl is sitting with an umbrella and have re...</td>\n",
       "      <td>An octagon shaped Stop sign with the houses in...</td>\n",
       "      <td>Hockey players in the ground playing the match.</td>\n",
       "      <td>A Siberian Husky dog sitting on the car seat.</td>\n",
       "      <td>A man on a surfboard riding a surfboard.</td>\n",
       "      <td>A yellow bird sitting on a tree.</td>\n",
       "      <td>...</td>\n",
       "      <td>Three glasses with red wine surrounded by othe...</td>\n",
       "      <td>A green coloured thing surrounded by trees</td>\n",
       "      <td>A women trying to operate a dryer</td>\n",
       "      <td>A washroom with a long cloth</td>\n",
       "      <td>Three different coloured cats sitting on a blu...</td>\n",
       "      <td>A happy man standing with bananas</td>\n",
       "      <td>A teddy bear covered with mud</td>\n",
       "      <td>A table with chairs and flowers in the pot</td>\n",
       "      <td>Three chairs with laptop on a table surrounded...</td>\n",
       "      <td>Television on a table with two lamps</td>\n",
       "    </tr>\n",
       "  </tbody>\n",
       "</table>\n",
       "<p>5 rows × 52 columns</p>\n",
       "</div>"
      ],
      "text/plain": [
       "                                 1                                  2  \\\n",
       "0  A plate with banana and cheese.  Different angles of a man skiing.   \n",
       "1  A plate with banana and cheese.                      A man skiing.   \n",
       "2    There is a banana and cheese.  Different angles of a man skiing.   \n",
       "3  A plate with banana and cheese.  Different angles of a man skiing.   \n",
       "4  A plate with banana and cheese.                      A man skiing.   \n",
       "\n",
       "                                      3  \\\n",
       "0  A brown cat with green eyes staring.   \n",
       "1  A brown cat with green eyes staring.   \n",
       "2  A brown cat with green eyes staring.   \n",
       "3  A brown cat with green eyes staring.   \n",
       "4  A brown cat with green eyes staring.   \n",
       "\n",
       "                                                   4  \\\n",
       "0  A red color toothbrush lying with a Chinese br...   \n",
       "1                            A toothbrush with paste   \n",
       "2  A red color toothbrush lying with a Chinese br...   \n",
       "3                            A toothbrush with paste   \n",
       "4  A red color toothbrush lying with a Chinese br...   \n",
       "\n",
       "                                                   5  \\\n",
       "0  A girl is sitting with an umbrella and have re...   \n",
       "1  A girl wearing a dress is sitting on a chair w...   \n",
       "2  A girl is sitting with an umbrella and have re...   \n",
       "3  A girl wearing a dress is sitting on a chair w...   \n",
       "4  A girl is sitting with an umbrella and have re...   \n",
       "\n",
       "                                                   6  \\\n",
       "0  An octagon shaped Stop sign with the houses in...   \n",
       "1         A stop sign with houses in the background.   \n",
       "2  An octagon shaped Stop sign with the houses in...   \n",
       "3         A stop sign with houses in the background.   \n",
       "4  An octagon shaped Stop sign with the houses in...   \n",
       "\n",
       "                                                 7  \\\n",
       "0  Hockey players in the ground playing the match.   \n",
       "1  Hockey players in the ground playing the match.   \n",
       "2                             Three men in a line.   \n",
       "3  Hockey players in the ground playing the match.   \n",
       "4  Hockey players in the ground playing the match.   \n",
       "\n",
       "                                               8  \\\n",
       "0  A Siberian Husky dog sitting on the car seat.   \n",
       "1                  A dog with blue eyes sitting.   \n",
       "2  A Siberian Husky dog sitting on the car seat.   \n",
       "3  A Siberian Husky dog sitting on the car seat.   \n",
       "4  A Siberian Husky dog sitting on the car seat.   \n",
       "\n",
       "                                          9  \\\n",
       "0  A man on a surfboard riding a surfboard.   \n",
       "1  A man on a surfboard riding a surfboard.   \n",
       "2  A man on a surfboard riding a surfboard.   \n",
       "3  A man on a surfboard riding a surfboard.   \n",
       "4  A man on a surfboard riding a surfboard.   \n",
       "\n",
       "                                     10  ...  \\\n",
       "0  A yellow bird with green background.  ...   \n",
       "1  A yellow bird with green background.  ...   \n",
       "2      A yellow bird sitting on a tree.  ...   \n",
       "3      A yellow bird sitting on a tree.  ...   \n",
       "4      A yellow bird sitting on a tree.  ...   \n",
       "\n",
       "                                                  43  \\\n",
       "0  Three glasses with red wine surrounded by othe...   \n",
       "1  Three glasses with red wine surrounded by othe...   \n",
       "2  Three glasses with red wine surrounded by othe...   \n",
       "3  Three glasses with red wine surrounded by othe...   \n",
       "4  Three glasses with red wine surrounded by othe...   \n",
       "\n",
       "                                           44  \\\n",
       "0  A green coloured thing surrounded by trees   \n",
       "1  A green coloured thing surrounded by trees   \n",
       "2  A green coloured thing surrounded by trees   \n",
       "3  A green coloured thing surrounded by trees   \n",
       "4  A green coloured thing surrounded by trees   \n",
       "\n",
       "                                  45  \\\n",
       "0  A women trying to operate a dryer   \n",
       "1  A women trying to operate a dryer   \n",
       "2  A women trying to operate a dryer   \n",
       "3  A women trying to operate a dryer   \n",
       "4  A women trying to operate a dryer   \n",
       "\n",
       "                                                  46  \\\n",
       "0  A neat and clean washroom with curtains and po...   \n",
       "1                       A washroom with a long cloth   \n",
       "2                       A washroom with a long cloth   \n",
       "3  A neat and clean washroom with curtains and po...   \n",
       "4                       A washroom with a long cloth   \n",
       "\n",
       "                                                  47  \\\n",
       "0  Three different coloured aggressive cats sitti...   \n",
       "1  Three different coloured aggressive cats sitti...   \n",
       "2  Three different coloured aggressive cats sitti...   \n",
       "3  Three different coloured cats sitting on a blu...   \n",
       "4  Three different coloured cats sitting on a blu...   \n",
       "\n",
       "                                  48  \\\n",
       "0  A happy man standing with bananas   \n",
       "1  A happy man standing with bananas   \n",
       "2              A man holding bananas   \n",
       "3  A happy man standing with bananas   \n",
       "4  A happy man standing with bananas   \n",
       "\n",
       "                                         49  \\\n",
       "0  A thing covered with brown coloured dust   \n",
       "1  A thing covered with brown coloured dust   \n",
       "2             A teddy bear covered with mud   \n",
       "3             A teddy bear covered with mud   \n",
       "4             A teddy bear covered with mud   \n",
       "\n",
       "                                                  50  \\\n",
       "0  A painting of a table and two chairs with a fl...   \n",
       "1  A painting of a table and two chairs with a fl...   \n",
       "2  A painting of a table and two chairs with a fl...   \n",
       "3  A painting of a table and two chairs with a fl...   \n",
       "4         A table with chairs and flowers in the pot   \n",
       "\n",
       "                                                  51  \\\n",
       "0  Three chairs with laptop on a table surrounded...   \n",
       "1  Three chairs with laptop on a table surrounded...   \n",
       "2      Three chairs with a table surrounded by trees   \n",
       "3  Three chairs with laptop on a table surrounded...   \n",
       "4  Three chairs with laptop on a table surrounded...   \n",
       "\n",
       "                                                  52  \n",
       "0  Two lamps and a television on a table with fou...  \n",
       "1  Two lamps and a television on a table with fou...  \n",
       "2  Two lamps and a television on a table with fou...  \n",
       "3               Television on a table with two lamps  \n",
       "4               Television on a table with two lamps  \n",
       "\n",
       "[5 rows x 52 columns]"
      ]
     },
     "execution_count": 4,
     "metadata": {},
     "output_type": "execute_result"
    }
   ],
   "source": [
    "response_final= response.drop(response.columns[[0,1]], axis=1)\n",
    "response_final.head()"
   ]
  },
  {
   "cell_type": "markdown",
   "metadata": {},
   "source": [
    "### Recoding captions"
   ]
  },
  {
   "cell_type": "code",
   "execution_count": 5,
   "metadata": {},
   "outputs": [
    {
     "data": {
      "text/html": [
       "<div>\n",
       "<style scoped>\n",
       "    .dataframe tbody tr th:only-of-type {\n",
       "        vertical-align: middle;\n",
       "    }\n",
       "\n",
       "    .dataframe tbody tr th {\n",
       "        vertical-align: top;\n",
       "    }\n",
       "\n",
       "    .dataframe thead th {\n",
       "        text-align: right;\n",
       "    }\n",
       "</style>\n",
       "<table border=\"1\" class=\"dataframe\">\n",
       "  <thead>\n",
       "    <tr style=\"text-align: right;\">\n",
       "      <th></th>\n",
       "      <th>1</th>\n",
       "      <th>2</th>\n",
       "      <th>3</th>\n",
       "      <th>4</th>\n",
       "      <th>5</th>\n",
       "      <th>6</th>\n",
       "      <th>7</th>\n",
       "      <th>8</th>\n",
       "      <th>9</th>\n",
       "      <th>10</th>\n",
       "      <th>...</th>\n",
       "      <th>43</th>\n",
       "      <th>44</th>\n",
       "      <th>45</th>\n",
       "      <th>46</th>\n",
       "      <th>47</th>\n",
       "      <th>48</th>\n",
       "      <th>49</th>\n",
       "      <th>50</th>\n",
       "      <th>51</th>\n",
       "      <th>52</th>\n",
       "    </tr>\n",
       "  </thead>\n",
       "  <tbody>\n",
       "    <tr>\n",
       "      <th>0</th>\n",
       "      <td>Human</td>\n",
       "      <td>Human</td>\n",
       "      <td>Human</td>\n",
       "      <td>Human</td>\n",
       "      <td>Model</td>\n",
       "      <td>Human</td>\n",
       "      <td>Human</td>\n",
       "      <td>Human</td>\n",
       "      <td>Model</td>\n",
       "      <td>Model</td>\n",
       "      <td>...</td>\n",
       "      <td>Human</td>\n",
       "      <td>Model</td>\n",
       "      <td>Human</td>\n",
       "      <td>Human</td>\n",
       "      <td>Human</td>\n",
       "      <td>Human</td>\n",
       "      <td>Model</td>\n",
       "      <td>Human</td>\n",
       "      <td>Human</td>\n",
       "      <td>Human</td>\n",
       "    </tr>\n",
       "    <tr>\n",
       "      <th>1</th>\n",
       "      <td>Human</td>\n",
       "      <td>Model</td>\n",
       "      <td>Human</td>\n",
       "      <td>Model</td>\n",
       "      <td>Human</td>\n",
       "      <td>Model</td>\n",
       "      <td>Human</td>\n",
       "      <td>Model</td>\n",
       "      <td>Model</td>\n",
       "      <td>Model</td>\n",
       "      <td>...</td>\n",
       "      <td>Human</td>\n",
       "      <td>Model</td>\n",
       "      <td>Human</td>\n",
       "      <td>Model</td>\n",
       "      <td>Human</td>\n",
       "      <td>Human</td>\n",
       "      <td>Model</td>\n",
       "      <td>Human</td>\n",
       "      <td>Human</td>\n",
       "      <td>Human</td>\n",
       "    </tr>\n",
       "    <tr>\n",
       "      <th>2</th>\n",
       "      <td>Model</td>\n",
       "      <td>Human</td>\n",
       "      <td>Human</td>\n",
       "      <td>Human</td>\n",
       "      <td>Model</td>\n",
       "      <td>Human</td>\n",
       "      <td>Model</td>\n",
       "      <td>Human</td>\n",
       "      <td>Model</td>\n",
       "      <td>Human</td>\n",
       "      <td>...</td>\n",
       "      <td>Human</td>\n",
       "      <td>Model</td>\n",
       "      <td>Human</td>\n",
       "      <td>Model</td>\n",
       "      <td>Human</td>\n",
       "      <td>Model</td>\n",
       "      <td>Human</td>\n",
       "      <td>Human</td>\n",
       "      <td>Model</td>\n",
       "      <td>Human</td>\n",
       "    </tr>\n",
       "    <tr>\n",
       "      <th>3</th>\n",
       "      <td>Human</td>\n",
       "      <td>Human</td>\n",
       "      <td>Human</td>\n",
       "      <td>Model</td>\n",
       "      <td>Human</td>\n",
       "      <td>Model</td>\n",
       "      <td>Human</td>\n",
       "      <td>Human</td>\n",
       "      <td>Model</td>\n",
       "      <td>Human</td>\n",
       "      <td>...</td>\n",
       "      <td>Human</td>\n",
       "      <td>Model</td>\n",
       "      <td>Human</td>\n",
       "      <td>Human</td>\n",
       "      <td>Model</td>\n",
       "      <td>Human</td>\n",
       "      <td>Human</td>\n",
       "      <td>Human</td>\n",
       "      <td>Human</td>\n",
       "      <td>Model</td>\n",
       "    </tr>\n",
       "    <tr>\n",
       "      <th>4</th>\n",
       "      <td>Human</td>\n",
       "      <td>Model</td>\n",
       "      <td>Human</td>\n",
       "      <td>Human</td>\n",
       "      <td>Model</td>\n",
       "      <td>Human</td>\n",
       "      <td>Human</td>\n",
       "      <td>Human</td>\n",
       "      <td>Model</td>\n",
       "      <td>Human</td>\n",
       "      <td>...</td>\n",
       "      <td>Human</td>\n",
       "      <td>Model</td>\n",
       "      <td>Human</td>\n",
       "      <td>Model</td>\n",
       "      <td>Model</td>\n",
       "      <td>Human</td>\n",
       "      <td>Human</td>\n",
       "      <td>Model</td>\n",
       "      <td>Human</td>\n",
       "      <td>Model</td>\n",
       "    </tr>\n",
       "  </tbody>\n",
       "</table>\n",
       "<p>5 rows × 52 columns</p>\n",
       "</div>"
      ],
      "text/plain": [
       "       1      2      3      4      5      6      7      8      9     10  ...  \\\n",
       "0  Human  Human  Human  Human  Model  Human  Human  Human  Model  Model  ...   \n",
       "1  Human  Model  Human  Model  Human  Model  Human  Model  Model  Model  ...   \n",
       "2  Model  Human  Human  Human  Model  Human  Model  Human  Model  Human  ...   \n",
       "3  Human  Human  Human  Model  Human  Model  Human  Human  Model  Human  ...   \n",
       "4  Human  Model  Human  Human  Model  Human  Human  Human  Model  Human  ...   \n",
       "\n",
       "      43     44     45     46     47     48     49     50     51     52  \n",
       "0  Human  Model  Human  Human  Human  Human  Model  Human  Human  Human  \n",
       "1  Human  Model  Human  Model  Human  Human  Model  Human  Human  Human  \n",
       "2  Human  Model  Human  Model  Human  Model  Human  Human  Model  Human  \n",
       "3  Human  Model  Human  Human  Model  Human  Human  Human  Human  Model  \n",
       "4  Human  Model  Human  Model  Model  Human  Human  Model  Human  Model  \n",
       "\n",
       "[5 rows x 52 columns]"
      ]
     },
     "execution_count": 5,
     "metadata": {},
     "output_type": "execute_result"
    }
   ],
   "source": [
    "response_final.replace(['A plate with banana and cheese.', 'There is a banana and cheese.'], ['Human', 'Model'], inplace=True)\n",
    "response_final.replace(['Different angles of a man skiing.', 'A man skiing.'], ['Human','Model'], inplace = True)\n",
    "response_final.replace(['A brown cat with green eyes staring.', 'A brown cat with green eyes.'], ['Human','Model'], inplace = True)\n",
    "response_final.replace(['A red color toothbrush lying with a Chinese branded toothpaste.', \n",
    "                        'A toothbrush with paste'], ['Human','Model'], inplace = True)\n",
    "\n",
    "response_final.replace(['A girl wearing a dress is sitting on a chair with an umbrella.', \n",
    "                        'A girl is sitting with an umbrella and have red background.'], ['Human','Model'], inplace = True)\n",
    "\n",
    "response_final.replace(['An octagon shaped Stop sign with the houses in the background.', \n",
    "                        'A stop sign with houses in the background.'], ['Human','Model'], inplace = True)\n",
    "\n",
    "response_final.replace(['Hockey players in the ground playing the match.', \n",
    "                        'Three men in a line.'], ['Human','Model'], inplace = True)\n",
    "\n",
    "response_final.replace(['A Siberian Husky dog sitting on the car seat.', \n",
    "                        'A dog with blue eyes sitting.'], ['Human','Model'], inplace = True)\n",
    "\n",
    "response_final.replace(['A man surfing in the water.','A man on a surfboard riding a surfboard.'], ['Human','Model'], inplace = True)\n",
    "\n",
    "response_final.replace(['A yellow bird sitting on a tree.','A yellow bird with green background.'], ['Human','Model'], inplace = True)\n",
    "\n",
    "response_final.replace(['A woman eating a large pizza looks happy.','A girl holding a round thing sitting with a red background.'], \n",
    "                        ['Human','Model'], inplace = True)\n",
    "\n",
    "response_final.replace(['A giraffe in a zoo.','A giraffe standing in the field with trees.'], \n",
    "                        ['Human','Model'], inplace = True)\n",
    "\n",
    "response_final.replace(['Red and green colored duplex buses parked in front of the trees.','Two vehicles standing in front of the trees.'], \n",
    "                        ['Human','Model'], inplace = True)\n",
    "\n",
    "response_final.replace(['Red and green colored duplex buses parked in front of the trees.','Two vehicles standing in front of the trees.'], \n",
    "                        ['Human','Model'], inplace = True)\n",
    "\n",
    "response_final.replace(['The time is 4:14 in the clock.','A clock with trees and buildings in the background.'], \n",
    "                        ['Human','Model'], inplace = True)\n",
    "\n",
    "response_final.replace(['A yellow notebook with pen on the table.','A yellow book with pen.'], \n",
    "                        ['Human','Model'], inplace = True)\n",
    "\n",
    "response_final.replace(['A boy buying apples and oranges with his mother.','Apples and oranges with a boy in the background.'], \n",
    "                        ['Human','Model'], inplace = True)\n",
    "\n",
    "response_final.replace(['Three bulls on the field.','Some animals on the field with mountains in the background.'], \n",
    "                        ['Human','Model'], inplace = True)\n",
    "\n",
    "response_final.replace(['Two blonde babies in the bathroom.','Two babies sitting on blue chairs.'], \n",
    "                        ['Human','Model'], inplace = True)\n",
    "\n",
    "response_final.replace(['Two Zebras on the ground with some trees in the background.','A zebra with trees in the background.'], \n",
    "                        ['Human','Model'], inplace = True)\n",
    "\n",
    "response_final.replace(['Laptop on charging kept on the bed.','Laptop with white wall in the background.'], \n",
    "                        ['Human','Model'], inplace = True)\n",
    "\n",
    "response_final.replace(['Study desk with monitor, keyboard and laptop.','Monitor and laptop on the table.'], \n",
    "                        ['Human','Model'], inplace = True)\n",
    "\n",
    "response_final.replace(['A blue coloured garden water pump on field surrounded by trees','Blue colour pump on the field'], \n",
    "                        ['Human','Model'], inplace = True)\n",
    "\n",
    "response_final.replace(['Two men singing on a karaoke','Two men watching something'], \n",
    "                        ['Human','Model'], inplace = True)\n",
    "\n",
    "response_final.replace(['A zebra surrounded by trees','An animal surrounded by trees'], \n",
    "                        ['Human','Model'], inplace = True)\n",
    "\n",
    "response_final.replace(['A brand new washroom with the latest accessories','A sink with a pot'],['Human','Model'], inplace = True)\n",
    "\n",
    "response_final.replace(['A cooking pot with carrots, apples and other sweets','An utensil with carrots and apples'], \n",
    "                        ['Human','Model'], inplace = True)\n",
    "\n",
    "response_final.replace(['A baby boy crying on a mattress','A boy crying'],['Human','Model'], inplace = True)\n",
    "\n",
    "response_final.replace(['A brown coloured cat sitting on a laptop','A cat sitting on a laptop'],['Human','Model'], inplace = True)\n",
    "\n",
    "response_final.replace(['A man with a hat riding a two-wheeler','A man standing on a cycle'],['Human','Model'], inplace = True)\n",
    "\n",
    "response_final.replace(['A giraffe and a baby zebra standing opposite to each other','A giraffe and zebra standing on a field'],\n",
    "                       ['Human','Model'], inplace = True)\n",
    "\n",
    "response_final.replace(['A boy is having salad, and coffee for breakfast','A boy is having vegetables for breakfast'],\n",
    "                       ['Human','Model'], inplace = True)\n",
    "\n",
    "response_final.replace(['A large crowd is having breakfast at 9:10 am','People are having food with a wall clock'],\n",
    "                       ['Human','Model'], inplace = True)\n",
    "\n",
    "response_final.replace(['Two green direction boards on a pole surrounded by trees','Two green boards surrounded by trees'],\n",
    "                       ['Human','Model'], inplace = True)\n",
    "\n",
    "response_final.replace(['A boat standing in front of water surrounded by hills','A boat surrounded by hills'],\n",
    "                       ['Human','Model'], inplace = True)\n",
    "\n",
    "response_final.replace(['Two middle-aged men standing with an umbrella','Two men standing'],\n",
    "                       ['Human','Model'], inplace = True)\n",
    "\n",
    "response_final.replace(['A washrooms with sinks with mirrors, dryers and a dustbin','A washroom with mirrors'],\n",
    "                       ['Human','Model'], inplace = True)\n",
    "\n",
    "response_final.replace(['A long giraffe standing in a garden with baby deers','A giraffe standing surrounded by trees'],\n",
    "                       ['Human','Model'], inplace = True)\n",
    "\n",
    "response_final.replace(['A man playing tennis','A man playing'],['Human','Model'], inplace = True)\n",
    "\n",
    "response_final.replace(['A chocolate pie on a plate with a dark background','A pie on a base'],['Human','Model'], inplace = True)\n",
    "\n",
    "response_final.replace(['A bedroom with a bed, sofas, clock and television','A bedroom with a bed with sofas'],\n",
    "                       ['Human','Model'], inplace = True)\n",
    "\n",
    "response_final.replace(['A man taking picture of a pizza','Two men with a round shaped thing'],\n",
    "                       ['Human','Model'], inplace = True)\n",
    "\n",
    "response_final.replace(['A light brown coloured cat looking in a mirror','A cat looking in a mirror'],\n",
    "                       ['Human','Model'], inplace = True)\n",
    "\n",
    "response_final.replace(['Three glasses with red wine surrounded by other dishes','Three glasses with a bottle'],\n",
    "                       ['Human','Model'], inplace = True)\n",
    "\n",
    "response_final.replace(['A green coloured tub in the forest','A green coloured thing surrounded by trees'],\n",
    "                       ['Human','Model'], inplace = True)\n",
    "\n",
    "response_final.replace(['A women trying to operate a dryer','A girl with a thing'],['Human','Model'], inplace = True)\n",
    "\n",
    "response_final.replace(['A neat and clean washroom with curtains and pot covered with lid','A washroom with a long cloth'],\n",
    "                       ['Human','Model'], inplace = True)\n",
    "\n",
    "response_final.replace(['Three different coloured aggressive cats sitting on a bed',\n",
    "                        'Three different coloured cats sitting on a blue coloured blanket'],['Human','Model'], inplace = True)\n",
    "\n",
    "response_final.replace(['A happy man standing with bananas','A man holding bananas'],\n",
    "                       ['Human','Model'], inplace = True)\n",
    "\n",
    "response_final.replace(['A teddy bear covered with mud','A thing covered with brown coloured dust'],\n",
    "                       ['Human','Model'], inplace = True)\n",
    "\n",
    "response_final.replace(['A painting of a table and two chairs with a flower pot in the middle','A table with chairs and flowers in the pot'],\n",
    "                       ['Human','Model'], inplace = True)\n",
    "\n",
    "response_final.replace(['Three chairs with laptop on a table surrounded by trees','Three chairs with a table surrounded by trees'],\n",
    "                       ['Human','Model'], inplace = True)\n",
    "\n",
    "response_final.replace(['Two lamps and a television on a table with four drawers placed with a study table',\n",
    "                        'Television on a table with two lamps'],['Human','Model'], inplace = True)\n",
    "\n",
    "response_final"
   ]
  },
  {
   "cell_type": "markdown",
   "metadata": {},
   "source": [
    "### Taking transpose:"
   ]
  },
  {
   "cell_type": "code",
   "execution_count": 6,
   "metadata": {},
   "outputs": [
    {
     "data": {
      "text/html": [
       "<div>\n",
       "<style scoped>\n",
       "    .dataframe tbody tr th:only-of-type {\n",
       "        vertical-align: middle;\n",
       "    }\n",
       "\n",
       "    .dataframe tbody tr th {\n",
       "        vertical-align: top;\n",
       "    }\n",
       "\n",
       "    .dataframe thead th {\n",
       "        text-align: right;\n",
       "    }\n",
       "</style>\n",
       "<table border=\"1\" class=\"dataframe\">\n",
       "  <thead>\n",
       "    <tr style=\"text-align: right;\">\n",
       "      <th></th>\n",
       "      <th>0</th>\n",
       "      <th>1</th>\n",
       "      <th>2</th>\n",
       "      <th>3</th>\n",
       "      <th>4</th>\n",
       "    </tr>\n",
       "  </thead>\n",
       "  <tbody>\n",
       "    <tr>\n",
       "      <th>1</th>\n",
       "      <td>Human</td>\n",
       "      <td>Human</td>\n",
       "      <td>Model</td>\n",
       "      <td>Human</td>\n",
       "      <td>Human</td>\n",
       "    </tr>\n",
       "    <tr>\n",
       "      <th>2</th>\n",
       "      <td>Human</td>\n",
       "      <td>Model</td>\n",
       "      <td>Human</td>\n",
       "      <td>Human</td>\n",
       "      <td>Model</td>\n",
       "    </tr>\n",
       "    <tr>\n",
       "      <th>3</th>\n",
       "      <td>Human</td>\n",
       "      <td>Human</td>\n",
       "      <td>Human</td>\n",
       "      <td>Human</td>\n",
       "      <td>Human</td>\n",
       "    </tr>\n",
       "    <tr>\n",
       "      <th>4</th>\n",
       "      <td>Human</td>\n",
       "      <td>Model</td>\n",
       "      <td>Human</td>\n",
       "      <td>Model</td>\n",
       "      <td>Human</td>\n",
       "    </tr>\n",
       "    <tr>\n",
       "      <th>5</th>\n",
       "      <td>Model</td>\n",
       "      <td>Human</td>\n",
       "      <td>Model</td>\n",
       "      <td>Human</td>\n",
       "      <td>Model</td>\n",
       "    </tr>\n",
       "  </tbody>\n",
       "</table>\n",
       "</div>"
      ],
      "text/plain": [
       "       0      1      2      3      4\n",
       "1  Human  Human  Model  Human  Human\n",
       "2  Human  Model  Human  Human  Model\n",
       "3  Human  Human  Human  Human  Human\n",
       "4  Human  Model  Human  Model  Human\n",
       "5  Model  Human  Model  Human  Model"
      ]
     },
     "execution_count": 6,
     "metadata": {},
     "output_type": "execute_result"
    }
   ],
   "source": [
    "response_final = response_final.transpose()\n",
    "response_final.head()"
   ]
  },
  {
   "cell_type": "markdown",
   "metadata": {},
   "source": [
    "### Counting number of responses who have chosen human annotation or model generated caption"
   ]
  },
  {
   "cell_type": "code",
   "execution_count": 7,
   "metadata": {},
   "outputs": [
    {
     "data": {
      "text/html": [
       "<div>\n",
       "<style scoped>\n",
       "    .dataframe tbody tr th:only-of-type {\n",
       "        vertical-align: middle;\n",
       "    }\n",
       "\n",
       "    .dataframe tbody tr th {\n",
       "        vertical-align: top;\n",
       "    }\n",
       "\n",
       "    .dataframe thead th {\n",
       "        text-align: right;\n",
       "    }\n",
       "</style>\n",
       "<table border=\"1\" class=\"dataframe\">\n",
       "  <thead>\n",
       "    <tr style=\"text-align: right;\">\n",
       "      <th></th>\n",
       "      <th>0</th>\n",
       "      <th>1</th>\n",
       "      <th>2</th>\n",
       "      <th>3</th>\n",
       "      <th>4</th>\n",
       "      <th>count1</th>\n",
       "      <th>count2</th>\n",
       "    </tr>\n",
       "  </thead>\n",
       "  <tbody>\n",
       "    <tr>\n",
       "      <th>1</th>\n",
       "      <td>Human</td>\n",
       "      <td>Human</td>\n",
       "      <td>Model</td>\n",
       "      <td>Human</td>\n",
       "      <td>Human</td>\n",
       "      <td>4</td>\n",
       "      <td>1</td>\n",
       "    </tr>\n",
       "    <tr>\n",
       "      <th>2</th>\n",
       "      <td>Human</td>\n",
       "      <td>Model</td>\n",
       "      <td>Human</td>\n",
       "      <td>Human</td>\n",
       "      <td>Model</td>\n",
       "      <td>3</td>\n",
       "      <td>2</td>\n",
       "    </tr>\n",
       "    <tr>\n",
       "      <th>3</th>\n",
       "      <td>Human</td>\n",
       "      <td>Human</td>\n",
       "      <td>Human</td>\n",
       "      <td>Human</td>\n",
       "      <td>Human</td>\n",
       "      <td>5</td>\n",
       "      <td>0</td>\n",
       "    </tr>\n",
       "    <tr>\n",
       "      <th>4</th>\n",
       "      <td>Human</td>\n",
       "      <td>Model</td>\n",
       "      <td>Human</td>\n",
       "      <td>Model</td>\n",
       "      <td>Human</td>\n",
       "      <td>3</td>\n",
       "      <td>2</td>\n",
       "    </tr>\n",
       "    <tr>\n",
       "      <th>5</th>\n",
       "      <td>Model</td>\n",
       "      <td>Human</td>\n",
       "      <td>Model</td>\n",
       "      <td>Human</td>\n",
       "      <td>Model</td>\n",
       "      <td>2</td>\n",
       "      <td>3</td>\n",
       "    </tr>\n",
       "  </tbody>\n",
       "</table>\n",
       "</div>"
      ],
      "text/plain": [
       "       0      1      2      3      4  count1  count2\n",
       "1  Human  Human  Model  Human  Human       4       1\n",
       "2  Human  Model  Human  Human  Model       3       2\n",
       "3  Human  Human  Human  Human  Human       5       0\n",
       "4  Human  Model  Human  Model  Human       3       2\n",
       "5  Model  Human  Model  Human  Model       2       3"
      ]
     },
     "execution_count": 7,
     "metadata": {},
     "output_type": "execute_result"
    }
   ],
   "source": [
    "humanset={\"Human\"}\n",
    "modelset={\"Model\"}\n",
    "response_final['count1']=response_final.isin(humanset).sum(1)\n",
    "response_final['count2']=response_final.isin(modelset).sum(1)\n",
    "response_final.head()"
   ]
  },
  {
   "cell_type": "code",
   "execution_count": 8,
   "metadata": {},
   "outputs": [
    {
     "name": "stderr",
     "output_type": "stream",
     "text": [
      "/Users/mahimagupta/anaconda3/lib/python3.6/site-packages/ipykernel_launcher.py:5: SettingWithCopyWarning: \n",
      "A value is trying to be set on a copy of a slice from a DataFrame\n",
      "\n",
      "See the caveats in the documentation: http://pandas.pydata.org/pandas-docs/stable/user_guide/indexing.html#returning-a-view-versus-a-copy\n",
      "  \"\"\"\n",
      "/Users/mahimagupta/anaconda3/lib/python3.6/site-packages/ipykernel_launcher.py:7: SettingWithCopyWarning: \n",
      "A value is trying to be set on a copy of a slice from a DataFrame\n",
      "\n",
      "See the caveats in the documentation: http://pandas.pydata.org/pandas-docs/stable/user_guide/indexing.html#returning-a-view-versus-a-copy\n",
      "  import sys\n"
     ]
    }
   ],
   "source": [
    "response_final['winner']= \"test\"\n",
    "\n",
    "for i in range(len(response_final)):\n",
    "    if(response_final['count1'][i]>response_final['count2'][i]):\n",
    "        response_final['winner'][i]=\"Human\"\n",
    "    else:\n",
    "        response_final['winner'][i]=\"Model\""
   ]
  },
  {
   "cell_type": "code",
   "execution_count": 11,
   "metadata": {},
   "outputs": [
    {
     "data": {
      "text/html": [
       "<div>\n",
       "<style scoped>\n",
       "    .dataframe tbody tr th:only-of-type {\n",
       "        vertical-align: middle;\n",
       "    }\n",
       "\n",
       "    .dataframe tbody tr th {\n",
       "        vertical-align: top;\n",
       "    }\n",
       "\n",
       "    .dataframe thead th {\n",
       "        text-align: right;\n",
       "    }\n",
       "</style>\n",
       "<table border=\"1\" class=\"dataframe\">\n",
       "  <thead>\n",
       "    <tr style=\"text-align: right;\">\n",
       "      <th></th>\n",
       "      <th>Response1</th>\n",
       "      <th>Response2</th>\n",
       "      <th>Response3</th>\n",
       "      <th>Response4</th>\n",
       "      <th>Response5</th>\n",
       "      <th>count1</th>\n",
       "      <th>count2</th>\n",
       "      <th>winner</th>\n",
       "    </tr>\n",
       "  </thead>\n",
       "  <tbody>\n",
       "    <tr>\n",
       "      <th>1</th>\n",
       "      <td>Human</td>\n",
       "      <td>Human</td>\n",
       "      <td>Model</td>\n",
       "      <td>Human</td>\n",
       "      <td>Human</td>\n",
       "      <td>4</td>\n",
       "      <td>1</td>\n",
       "      <td>Human</td>\n",
       "    </tr>\n",
       "    <tr>\n",
       "      <th>2</th>\n",
       "      <td>Human</td>\n",
       "      <td>Model</td>\n",
       "      <td>Human</td>\n",
       "      <td>Human</td>\n",
       "      <td>Model</td>\n",
       "      <td>3</td>\n",
       "      <td>2</td>\n",
       "      <td>Human</td>\n",
       "    </tr>\n",
       "    <tr>\n",
       "      <th>3</th>\n",
       "      <td>Human</td>\n",
       "      <td>Human</td>\n",
       "      <td>Human</td>\n",
       "      <td>Human</td>\n",
       "      <td>Human</td>\n",
       "      <td>5</td>\n",
       "      <td>0</td>\n",
       "      <td>Human</td>\n",
       "    </tr>\n",
       "    <tr>\n",
       "      <th>4</th>\n",
       "      <td>Human</td>\n",
       "      <td>Model</td>\n",
       "      <td>Human</td>\n",
       "      <td>Model</td>\n",
       "      <td>Human</td>\n",
       "      <td>3</td>\n",
       "      <td>2</td>\n",
       "      <td>Human</td>\n",
       "    </tr>\n",
       "    <tr>\n",
       "      <th>5</th>\n",
       "      <td>Model</td>\n",
       "      <td>Human</td>\n",
       "      <td>Model</td>\n",
       "      <td>Human</td>\n",
       "      <td>Model</td>\n",
       "      <td>2</td>\n",
       "      <td>3</td>\n",
       "      <td>Model</td>\n",
       "    </tr>\n",
       "  </tbody>\n",
       "</table>\n",
       "</div>"
      ],
      "text/plain": [
       "  Response1 Response2 Response3 Response4 Response5  count1  count2 winner\n",
       "1     Human     Human     Model     Human     Human       4       1  Human\n",
       "2     Human     Model     Human     Human     Model       3       2  Human\n",
       "3     Human     Human     Human     Human     Human       5       0  Human\n",
       "4     Human     Model     Human     Model     Human       3       2  Human\n",
       "5     Model     Human     Model     Human     Model       2       3  Model"
      ]
     },
     "execution_count": 11,
     "metadata": {},
     "output_type": "execute_result"
    }
   ],
   "source": [
    "response_final.rename(columns={0: \"Response1\", 1: \"Response2\", 2: \"Response3\", 3: \"Response4\", 4: \"Response5\"}, inplace = True)\n",
    "response_final.head()"
   ]
  },
  {
   "cell_type": "code",
   "execution_count": 12,
   "metadata": {},
   "outputs": [
    {
     "data": {
      "text/plain": [
       "array(['Human', 'Human', 'Human', 'Human', 'Model', 'Human', 'Human',\n",
       "       'Human', 'Model', 'Model', 'Human', 'Model', 'Human', 'Model',\n",
       "       'Human', 'Human', 'Model', 'Model', 'Human', 'Human', 'Human',\n",
       "       'Human', 'Human', 'Human', 'Human', 'Human', 'Model', 'Human',\n",
       "       'Human', 'Model', 'Human', 'Human', 'Human', 'Human', 'Human',\n",
       "       'Human', 'Model', 'Human', 'Human', 'Human', 'Human', 'Model',\n",
       "       'Human', 'Model', 'Human', 'Human', 'Human', 'Human', 'Model',\n",
       "       'Human', 'Human', 'Human'], dtype=object)"
      ]
     },
     "execution_count": 12,
     "metadata": {},
     "output_type": "execute_result"
    }
   ],
   "source": [
    "my_list = response_final['Response1'].values\n",
    "my_list"
   ]
  },
  {
   "cell_type": "code",
   "execution_count": 13,
   "metadata": {},
   "outputs": [
    {
     "data": {
      "text/plain": [
       "array(['Human', 'Model', 'Human', 'Model', 'Human', 'Model', 'Human',\n",
       "       'Model', 'Model', 'Model', 'Human', 'Model', 'Human', 'Model',\n",
       "       'Human', 'Human', 'Model', 'Human', 'Human', 'Model', 'Human',\n",
       "       'Model', 'Human', 'Human', 'Model', 'Human', 'Human', 'Model',\n",
       "       'Human', 'Model', 'Human', 'Human', 'Human', 'Human', 'Human',\n",
       "       'Model', 'Model', 'Human', 'Human', 'Model', 'Model', 'Human',\n",
       "       'Human', 'Model', 'Human', 'Model', 'Human', 'Human', 'Model',\n",
       "       'Human', 'Human', 'Human'], dtype=object)"
      ]
     },
     "execution_count": 13,
     "metadata": {},
     "output_type": "execute_result"
    }
   ],
   "source": [
    "my_list1 = response_final['Response2'].values\n",
    "my_list1"
   ]
  },
  {
   "cell_type": "code",
   "execution_count": 14,
   "metadata": {},
   "outputs": [
    {
     "data": {
      "text/plain": [
       "array(['Model', 'Human', 'Human', 'Human', 'Model', 'Human', 'Model',\n",
       "       'Human', 'Model', 'Human', 'Model', 'Human', 'Human', 'Model',\n",
       "       'Human', 'Model', 'Model', 'Human', 'Model', 'Human', 'Model',\n",
       "       'Human', 'Model', 'Human', 'Model', 'Human', 'Model', 'Human',\n",
       "       'Human', 'Model', 'Human', 'Model', 'Human', 'Model', 'Human',\n",
       "       'Model', 'Human', 'Human', 'Human', 'Model', 'Human', 'Human',\n",
       "       'Human', 'Model', 'Human', 'Model', 'Human', 'Model', 'Human',\n",
       "       'Human', 'Model', 'Human'], dtype=object)"
      ]
     },
     "execution_count": 14,
     "metadata": {},
     "output_type": "execute_result"
    }
   ],
   "source": [
    "my_list2 = response_final['Response3'].values\n",
    "my_list2"
   ]
  },
  {
   "cell_type": "code",
   "execution_count": 15,
   "metadata": {},
   "outputs": [
    {
     "data": {
      "text/plain": [
       "array(['Human', 'Human', 'Human', 'Model', 'Human', 'Model', 'Human',\n",
       "       'Human', 'Model', 'Human', 'Model', 'Human', 'Model', 'Human',\n",
       "       'Model', 'Human', 'Model', 'Human', 'Model', 'Human', 'Model',\n",
       "       'Human', 'Model', 'Human', 'Model', 'Human', 'Human', 'Human',\n",
       "       'Human', 'Model', 'Human', 'Model', 'Human', 'Human', 'Model',\n",
       "       'Human', 'Human', 'Model', 'Human', 'Human', 'Model', 'Human',\n",
       "       'Human', 'Model', 'Human', 'Human', 'Model', 'Human', 'Human',\n",
       "       'Human', 'Human', 'Model'], dtype=object)"
      ]
     },
     "execution_count": 15,
     "metadata": {},
     "output_type": "execute_result"
    }
   ],
   "source": [
    "my_list3 = response_final['Response4'].values\n",
    "my_list3"
   ]
  },
  {
   "cell_type": "code",
   "execution_count": 16,
   "metadata": {},
   "outputs": [
    {
     "data": {
      "text/plain": [
       "array(['Human', 'Model', 'Human', 'Human', 'Model', 'Human', 'Human',\n",
       "       'Human', 'Model', 'Human', 'Model', 'Model', 'Human', 'Human',\n",
       "       'Human', 'Model', 'Model', 'Human', 'Model', 'Human', 'Model',\n",
       "       'Human', 'Model', 'Model', 'Human', 'Human', 'Human', 'Human',\n",
       "       'Model', 'Model', 'Human', 'Model', 'Human', 'Human', 'Human',\n",
       "       'Model', 'Human', 'Human', 'Human', 'Model', 'Human', 'Human',\n",
       "       'Human', 'Model', 'Human', 'Model', 'Model', 'Human', 'Human',\n",
       "       'Model', 'Human', 'Model'], dtype=object)"
      ]
     },
     "execution_count": 16,
     "metadata": {},
     "output_type": "execute_result"
    }
   ],
   "source": [
    "my_list4 = response_final['Response5'].values\n",
    "my_list4"
   ]
  },
  {
   "cell_type": "code",
   "execution_count": 21,
   "metadata": {},
   "outputs": [],
   "source": [
    "res1 = ['Human', 'Human', 'Human', 'Human', 'Model', 'Human', 'Human',\n",
    "       'Human', 'Model', 'Model', 'Human', 'Model', 'Human', 'Model',\n",
    "       'Human', 'Human', 'Model', 'Model', 'Human', 'Human', 'Human',\n",
    "       'Human', 'Human', 'Human', 'Human', 'Human', 'Model', 'Human',\n",
    "       'Human', 'Model', 'Human', 'Human', 'Human', 'Human', 'Human',\n",
    "       'Human', 'Model', 'Human', 'Human', 'Human', 'Human', 'Model',\n",
    "       'Human', 'Model', 'Human', 'Human', 'Human', 'Human', 'Model',\n",
    "       'Human', 'Human', 'Human']\n",
    "     \n",
    "res2 = ['Human', 'Model', 'Human', 'Model', 'Human', 'Model', 'Human',\n",
    "       'Model', 'Model', 'Model', 'Human', 'Model', 'Human', 'Model',\n",
    "       'Human', 'Human', 'Model', 'Human', 'Human', 'Model', 'Human',\n",
    "       'Model', 'Human', 'Human', 'Model', 'Human', 'Human', 'Model',\n",
    "       'Human', 'Model', 'Human', 'Human', 'Human', 'Human', 'Human',\n",
    "       'Model', 'Model', 'Human', 'Human', 'Model', 'Model', 'Human',\n",
    "       'Human', 'Model', 'Human', 'Model', 'Human', 'Human', 'Model',\n",
    "       'Human', 'Human', 'Human']\n",
    "\n",
    "res3 = ['Model', 'Human', 'Human', 'Human', 'Model', 'Human', 'Model',\n",
    "       'Human', 'Model', 'Human', 'Model', 'Human', 'Human', 'Model',\n",
    "       'Human', 'Model', 'Model', 'Human', 'Model', 'Human', 'Model',\n",
    "       'Human', 'Model', 'Human', 'Model', 'Human', 'Model', 'Human',\n",
    "       'Human', 'Model', 'Human', 'Model', 'Human', 'Model', 'Human',\n",
    "       'Model', 'Human', 'Human', 'Human', 'Model', 'Human', 'Human',\n",
    "       'Human', 'Model', 'Human', 'Model', 'Human', 'Model', 'Human',\n",
    "       'Human', 'Model', 'Human']\n",
    "\n",
    "res4 = ['Human', 'Human', 'Human', 'Model', 'Human', 'Model', 'Human',\n",
    "       'Human', 'Model', 'Human', 'Model', 'Human', 'Model', 'Human',\n",
    "       'Model', 'Human', 'Model', 'Human', 'Model', 'Human', 'Model',\n",
    "       'Human', 'Model', 'Human', 'Model', 'Human', 'Human', 'Human',\n",
    "       'Human', 'Model', 'Human', 'Model', 'Human', 'Human', 'Model',\n",
    "       'Human', 'Human', 'Model', 'Human', 'Human', 'Model', 'Human',\n",
    "       'Human', 'Model', 'Human', 'Human', 'Model', 'Human', 'Human',\n",
    "       'Human', 'Human', 'Model']\n",
    "\n",
    "res5 = ['Human', 'Model', 'Human', 'Human', 'Model', 'Human', 'Human',\n",
    "       'Human', 'Model', 'Human', 'Model', 'Model', 'Human', 'Human',\n",
    "       'Human', 'Model', 'Model', 'Human', 'Model', 'Human', 'Model',\n",
    "       'Human', 'Model', 'Model', 'Human', 'Human', 'Human', 'Human',\n",
    "       'Model', 'Model', 'Human', 'Model', 'Human', 'Human', 'Human',\n",
    "       'Model', 'Human', 'Human', 'Human', 'Model', 'Human', 'Human',\n",
    "       'Human', 'Model', 'Human', 'Model', 'Model', 'Human', 'Human',\n",
    "       'Model', 'Human', 'Model']"
   ]
  },
  {
   "cell_type": "code",
   "execution_count": 22,
   "metadata": {},
   "outputs": [],
   "source": [
    "from sklearn.metrics import cohen_kappa_score"
   ]
  },
  {
   "cell_type": "code",
   "execution_count": 37,
   "metadata": {},
   "outputs": [
    {
     "data": {
      "text/plain": [
       "0.3191489361702128"
      ]
     },
     "execution_count": 37,
     "metadata": {},
     "output_type": "execute_result"
    }
   ],
   "source": [
    "cohen_kappa_score(res1,res2)"
   ]
  },
  {
   "cell_type": "code",
   "execution_count": 25,
   "metadata": {},
   "outputs": [
    {
     "data": {
      "text/plain": [
       "0.125"
      ]
     },
     "execution_count": 25,
     "metadata": {},
     "output_type": "execute_result"
    }
   ],
   "source": [
    "cohen_kappa_score(res1,res3)"
   ]
  },
  {
   "cell_type": "code",
   "execution_count": 26,
   "metadata": {},
   "outputs": [
    {
     "data": {
      "text/plain": [
       "-0.06666666666666665"
      ]
     },
     "execution_count": 26,
     "metadata": {},
     "output_type": "execute_result"
    }
   ],
   "source": [
    "cohen_kappa_score(res1,res4)"
   ]
  },
  {
   "cell_type": "code",
   "execution_count": 27,
   "metadata": {},
   "outputs": [
    {
     "data": {
      "text/plain": [
       "0.06382978723404253"
      ]
     },
     "execution_count": 27,
     "metadata": {},
     "output_type": "execute_result"
    }
   ],
   "source": [
    "cohen_kappa_score(res1,res5)"
   ]
  },
  {
   "cell_type": "code",
   "execution_count": 29,
   "metadata": {},
   "outputs": [
    {
     "data": {
      "text/plain": [
       "0.009146341463414642"
      ]
     },
     "execution_count": 29,
     "metadata": {},
     "output_type": "execute_result"
    }
   ],
   "source": [
    "cohen_kappa_score(res2,res3)"
   ]
  },
  {
   "cell_type": "code",
   "execution_count": 30,
   "metadata": {},
   "outputs": [
    {
     "data": {
      "text/plain": [
       "0.026521060842433664"
      ]
     },
     "execution_count": 30,
     "metadata": {},
     "output_type": "execute_result"
    }
   ],
   "source": [
    "cohen_kappa_score(res2,res4)"
   ]
  },
  {
   "cell_type": "code",
   "execution_count": 31,
   "metadata": {},
   "outputs": [
    {
     "data": {
      "text/plain": [
       "0.04147465437788023"
      ]
     },
     "execution_count": 31,
     "metadata": {},
     "output_type": "execute_result"
    }
   ],
   "source": [
    "cohen_kappa_score(res2,res5)"
   ]
  },
  {
   "cell_type": "code",
   "execution_count": 32,
   "metadata": {},
   "outputs": [
    {
     "data": {
      "text/plain": [
       "0.15740740740740744"
      ]
     },
     "execution_count": 32,
     "metadata": {},
     "output_type": "execute_result"
    }
   ],
   "source": [
    "cohen_kappa_score(res3,res4)"
   ]
  },
  {
   "cell_type": "code",
   "execution_count": 33,
   "metadata": {},
   "outputs": [
    {
     "data": {
      "text/plain": [
       "0.4054878048780488"
      ]
     },
     "execution_count": 33,
     "metadata": {},
     "output_type": "execute_result"
    }
   ],
   "source": [
    "cohen_kappa_score(res3,res5)"
   ]
  },
  {
   "cell_type": "code",
   "execution_count": 34,
   "metadata": {},
   "outputs": [
    {
     "data": {
      "text/plain": [
       "0.2698907956318253"
      ]
     },
     "execution_count": 34,
     "metadata": {},
     "output_type": "execute_result"
    }
   ],
   "source": [
    "cohen_kappa_score(res4,res5)"
   ]
  },
  {
   "cell_type": "markdown",
   "metadata": {},
   "source": [
    "### Count plot displaying comparison of captions chosen by 5 responses"
   ]
  },
  {
   "cell_type": "code",
   "execution_count": 124,
   "metadata": {},
   "outputs": [
    {
     "data": {
      "text/plain": [
       "<matplotlib.axes._subplots.AxesSubplot at 0x13b70558780>"
      ]
     },
     "execution_count": 124,
     "metadata": {},
     "output_type": "execute_result"
    },
    {
     "data": {
      "image/png": "[encoded data removed]",
      "text/plain": [
       "<Figure size 432x288 with 1 Axes>"
      ]
     },
     "metadata": {
      "needs_background": "light"
     },
     "output_type": "display_data"
    }
   ],
   "source": [
    "import seaborn as sns\n",
    "sns.countplot(response_final['winner'])"
   ]
  }
 ],
 "metadata": {
  "kernelspec": {
   "display_name": "Python 3",
   "language": "python",
   "name": "python3"
  },
  "language_info": {
   "codemirror_mode": {
    "name": "ipython",
    "version": 3
   },
   "file_extension": ".py",
   "mimetype": "text/x-python",
   "name": "python",
   "nbconvert_exporter": "python",
   "pygments_lexer": "ipython3",
   "version": "3.6.9"
  }
 },
 "nbformat": 4,
 "nbformat_minor": 2
}
